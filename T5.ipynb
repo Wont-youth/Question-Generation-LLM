{
 "cells": [
  {
   "cell_type": "code",
   "execution_count": 9,
   "metadata": {
    "colab": {
     "base_uri": "https://localhost:8080/"
    },
    "executionInfo": {
     "elapsed": 150534,
     "status": "ok",
     "timestamp": 1712190801323,
     "user": {
      "displayName": "Zxk",
      "userId": "12903730875573779685"
     },
     "user_tz": -480
    },
    "id": "glo7p3Z8KkFE",
    "outputId": "df4f0997-25ad-4c23-fc8c-52ec6fec7e2b"
   },
   "outputs": [],
   "source": [
    "# !pip install transformers datasets tokenizers accelerate\n",
    "# !pip install sentencepiece\n",
    "# !pip install accelerate -U\n",
    "# !pip install rouge\n",
    "# !pip install fastparquet"
   ]
  },
  {
   "cell_type": "code",
   "execution_count": 10,
   "metadata": {
    "executionInfo": {
     "elapsed": 16786,
     "status": "ok",
     "timestamp": 1712190818104,
     "user": {
      "displayName": "Zxk",
      "userId": "12903730875573779685"
     },
     "user_tz": -480
    },
    "id": "OCdeKld33thx"
   },
   "outputs": [],
   "source": [
    "import json\n",
    "import numpy as np\n",
    "import torch\n",
    "\n",
    "from tqdm.auto import tqdm\n",
    "from fastparquet import ParquetFile\n",
    "\n",
    "from datasets import Dataset\n",
    "\n",
    "from transformers import T5Tokenizer, T5ForConditionalGeneration, Seq2SeqTrainingArguments, DataCollatorForSeq2Seq, Seq2SeqTrainer\n",
    "\n",
    "from transformers.data.metrics.squad_metrics import compute_f1\n",
    "\n",
    "from nltk.translate.bleu_score import sentence_bleu\n",
    "from nltk.translate import meteor_score\n",
    "from rouge import Rouge\n",
    "\n",
    "import warnings\n",
    "warnings.filterwarnings('ignore')\n",
    "\n",
    "import nltk\n",
    "# nltk.download('wordnet')"
   ]
  },
  {
   "cell_type": "code",
   "execution_count": 11,
   "metadata": {
    "executionInfo": {
     "elapsed": 17,
     "status": "ok",
     "timestamp": 1712190818105,
     "user": {
      "displayName": "Zxk",
      "userId": "12903730875573779685"
     },
     "user_tz": -480
    },
    "id": "9Ya5XvJMCW3d"
   },
   "outputs": [],
   "source": [
    "max_input_length=512\n",
    "max_target_length=128\n",
    "\n",
    "train_path = r'./data/train.json'\n",
    "dev_path = r'./data/dev.json'\n",
    "test_path = r'./data/test.json'\n",
    "\n",
    "output_dir=r'./checkpoint'\n",
    "\n",
    "tokenizer_path=r'./saved_model'\n",
    "model_path=r'./saved_model'\n",
    "\n",
    "def data_preprocess(path):\n",
    "    with open(path, 'r', encoding='utf-8') as f_train:\n",
    "        train_set = json.load(f_train)\n",
    "        datas = train_set\n",
    "\n",
    "    new_data = []\n",
    "    for group in range(len(datas)):\n",
    "        for passage in datas[group]['paragraphs']:\n",
    "            context = passage['context']\n",
    "            for qa in passage['qas']:\n",
    "                new_data.append({\n",
    "                    'context': context,\n",
    "                    'answers': qa['answers'],\n",
    "                    'question': qa['question']\n",
    "                })\n",
    "\n",
    "    contexts=[]\n",
    "    labels=[]\n",
    "    for data in new_data:\n",
    "        answer_text = data['answers'][0]['text']\n",
    "        answer_len = len(answer_text)\n",
    "        answer_start = data['answers'][0]['answer_start']\n",
    "        hl_context = data['context'][:answer_start] +'<hl>' + answer_text + '<hl>' + data['context'][answer_start + answer_len:]\n",
    "        label=data['question']\n",
    "        contexts.append(hl_context)\n",
    "        labels.append(label)\n",
    "    return contexts, labels"
   ]
  },
  {
   "cell_type": "code",
   "execution_count": 12,
   "metadata": {
    "colab": {
     "base_uri": "https://localhost:8080/"
    },
    "executionInfo": {
     "elapsed": 9015,
     "status": "ok",
     "timestamp": 1712190827104,
     "user": {
      "displayName": "Zxk",
      "userId": "12903730875573779685"
     },
     "user_tz": -480
    },
    "id": "yJVPy8u0KACQ",
    "outputId": "20733013-51d5-49b0-e2c5-59fff8adb57c"
   },
   "outputs": [],
   "source": [
    "# 加载数据\n",
    "train_contexts, train_labels=data_preprocess(train_path)\n",
    "dev_contexts, dev_labels=data_preprocess(dev_path)\n",
    "test_contexts, test_labels=data_preprocess(test_path)\n",
    "\n",
    "# 提取数据\n",
    "train={}\n",
    "dev={}\n",
    "test={}\n",
    "\n",
    "train[\"contexts\"]=train_contexts \n",
    "train[\"labels\"]=train_labels \n",
    "dev[\"contexts\"]=dev_contexts \n",
    "dev[\"labels\"]=dev_labels\n",
    "test[\"contexts\"]=test_contexts \n",
    "test[\"labels\"]=test_labels\n",
    "\n",
    "# 数据集\n",
    "train_dataset=Dataset.from_dict(train)\n",
    "train_dataset=train_dataset.shuffle(seed=42)\n",
    "\n",
    "dev_dataset=Dataset.from_dict(dev)\n",
    "test_dataset=Dataset.from_dict(test)"
   ]
  },
  {
   "cell_type": "code",
   "execution_count": 13,
   "metadata": {
    "executionInfo": {
     "elapsed": 350,
     "status": "ok",
     "timestamp": 1712191913744,
     "user": {
      "displayName": "Zxk",
      "userId": "12903730875573779685"
     },
     "user_tz": -480
    },
    "id": "x_P0kkvQmS0U"
   },
   "outputs": [],
   "source": [
    "def calculate_bleu(reference, candidate):\n",
    "    bleu_1_gram = sentence_bleu(reference, candidate, weights=(1, 0, 0, 0))\n",
    "    bleu_2_gram = sentence_bleu(reference, candidate, weights=(0.5, 0.5, 0, 0))\n",
    "    bleu_4_gram = sentence_bleu(reference, candidate, weights=(0.25, 0.25, 0.25, 0.25))\n",
    "    return bleu_1_gram, bleu_2_gram, bleu_4_gram\n",
    "\n",
    "def calculate_meteor(reference, candidate):\n",
    "    meteor = meteor_score.meteor_score(reference, candidate)\n",
    "    return meteor\n",
    "\n",
    "def calculate_rough(reference, candidate):\n",
    "    rouge = Rouge()\n",
    "    rough_score = rouge.get_scores(candidate, reference)\n",
    "    rough_l = rough_score[0][\"rouge-l\"]\n",
    "    rough_l_r = rough_l[\"r\"]\n",
    "    return rough_l_r\n",
    "\n",
    "def get_metric(hypotheses_path, references_path):\n",
    "    hypotheses = open(hypotheses_path, 'r', encoding='utf-8').readlines()\n",
    "    references = open(references_path, 'r', encoding='utf-8').readlines()\n",
    "    hypotheses = [x.strip() for x in hypotheses]\n",
    "    references = [x.strip() for x in references]\n",
    "    assert len(hypotheses)==len(references)\n",
    "    print(f\"The length of test set is {len(hypotheses)}. Start calculating...\")\n",
    "    bleu_1_list, bleu_2_list, bleu_4_list, meteor_list, rough_l_list = [], [], [], [], []\n",
    "    for i in tqdm(range(len(references))):\n",
    "        hypothese = hypotheses[i]\n",
    "        reference = references[i]\n",
    "        hypothese_split = hypothese.split()\n",
    "        reference_split = [reference.split()]\n",
    "        bleu_1_gram, bleu_2_gram, bleu_4_gram = calculate_bleu(reference_split, hypothese_split)\n",
    "        bleu_1_list.append(bleu_1_gram)\n",
    "        bleu_2_list.append(bleu_2_gram)\n",
    "        bleu_4_list.append(bleu_4_gram)\n",
    "        meteor_score = calculate_meteor(reference_split, hypothese_split)\n",
    "        meteor_list.append(meteor_score)\n",
    "        rough_score = calculate_rough(hypothese, reference)\n",
    "        rough_l_list.append(rough_score)\n",
    "    bleu_1 = round(sum(bleu_1_list)*100/len(bleu_1_list), 3)\n",
    "    bleu_2 = round(sum(bleu_2_list)*100/len(bleu_2_list), 3)\n",
    "    bleu_4 = round(sum(bleu_4_list)*100/len(bleu_4_list), 3)\n",
    "    meteor = round(sum(meteor_list)*100/len(meteor_list), 3)\n",
    "    rough_l = round(sum(rough_l_list)*100/len(rough_l_list), 3)\n",
    "    return bleu_1, bleu_2, bleu_4, meteor, rough_l\n",
    "\n",
    "def write_file(texts, path):\n",
    "    file = open(path, 'w', encoding=u'utf-8')\n",
    "    for text in texts:\n",
    "        while \"\\n\" in text:\n",
    "           text = text.replace(\"\\n\", \" \")\n",
    "        file.write(text + '\\n')\n",
    "\n",
    "def evaluate(model, test_dataset, input_id, tokenizer):\n",
    "    model.eval()\n",
    "    model.to('cuda')\n",
    "    pred = []\n",
    "    targ = []\n",
    "    for i in tqdm(range(len(test_dataset))):\n",
    "        targ.append(test_dataset['labels'][i])\n",
    "        inputs = torch.tensor([input_id[i]]).to('cuda')\n",
    "        ids = model.generate(inputs, num_beams=3, min_length=1, max_length=30)\n",
    "        output = tokenizer.batch_decode(ids, skip_special_tokens=True, clean_up_tokenization_spaces=False)[0]\n",
    "        pred.append(output)\n",
    "    path = './predict/pred.txt'\n",
    "    targ_path = './predict/targ.txt'\n",
    "    write_file(targ, targ_path)\n",
    "    write_file(pred, path)\n",
    "\n",
    "def preprocess_function(examples):\n",
    "    inputs = [doc for doc in examples[\"contexts\"]]\n",
    "    model_inputs = tokenizer(inputs, max_length=max_input_length, truncation=True)\n",
    "    \n",
    "    with tokenizer.as_target_tokenizer():\n",
    "        labels = tokenizer(examples[\"labels\"], max_length=max_target_length, truncation=True)\n",
    "    model_inputs[\"labels\"] = labels[\"input_ids\"]\n",
    "\n",
    "    return model_inputs"
   ]
  },
  {
   "cell_type": "code",
   "execution_count": 14,
   "metadata": {},
   "outputs": [
    {
     "name": "stderr",
     "output_type": "stream",
     "text": [
      "Special tokens have been added in the vocabulary, make sure the associated word embeddings are fine-tuned or trained.\n"
     ]
    },
    {
     "data": {
      "application/vnd.jupyter.widget-view+json": {
       "model_id": "a9ebd0007f1a40679389365ad73b2e08",
       "version_major": 2,
       "version_minor": 0
      },
      "text/plain": [
       "Map:   0%|          | 0/75722 [00:00<?, ? examples/s]"
      ]
     },
     "metadata": {},
     "output_type": "display_data"
    },
    {
     "data": {
      "application/vnd.jupyter.widget-view+json": {
       "model_id": "cb65120501f6405199496d9616c0450d",
       "version_major": 2,
       "version_minor": 0
      },
      "text/plain": [
       "Map:   0%|          | 0/10570 [00:00<?, ? examples/s]"
      ]
     },
     "metadata": {},
     "output_type": "display_data"
    },
    {
     "data": {
      "application/vnd.jupyter.widget-view+json": {
       "model_id": "2e3db3418dc447fabf7c9215552b4a04",
       "version_major": 2,
       "version_minor": 0
      },
      "text/plain": [
       "Map:   0%|          | 0/11877 [00:00<?, ? examples/s]"
      ]
     },
     "metadata": {},
     "output_type": "display_data"
    },
    {
     "name": "stderr",
     "output_type": "stream",
     "text": [
      "Detected kernel version 4.18.0, which is below the recommended minimum of 5.5.0; this can cause the process to hang. It is recommended to upgrade the kernel to the minimum version or higher.\n"
     ]
    }
   ],
   "source": [
    "# tokenizer, add special tokens\n",
    "tokenizer = T5Tokenizer.from_pretrained(tokenizer_path)\n",
    "special_tokens_dict = {'additional_special_tokens': ['<hl>']}\n",
    "tokenizer.add_special_tokens(special_tokens_dict)\n",
    "\n",
    "# tokenize 之后的数据集，map\n",
    "tokenized_train_dataset = train_dataset.map(preprocess_function,  batched=True, remove_columns=train_dataset.column_names)\n",
    "tokenized_dev_dataset = dev_dataset.map(preprocess_function,  batched=True, remove_columns=dev_dataset.column_names)\n",
    "tokenized_test_dataset = test_dataset.map(preprocess_function,  batched=True, remove_columns=test_dataset.column_names)\n",
    "\n",
    "# batch_size\n",
    "batch_size = 16\n",
    "\n",
    "args = Seq2SeqTrainingArguments(\n",
    "    fp16 = True,\n",
    "    output_dir=output_dir,\n",
    "    num_train_epochs=1,\n",
    "    do_train=True,\n",
    "    do_eval=True,\n",
    "    per_device_train_batch_size=16,\n",
    "    per_device_eval_batch_size=16,\n",
    "    learning_rate=1e-04,\n",
    "    warmup_steps=100,\n",
    "    weight_decay=0.01,\n",
    "    label_smoothing_factor=0.1,\n",
    "    predict_with_generate=True,\n",
    "    logging_dir=\"logs\",\n",
    "    logging_strategy=\"steps\",\n",
    "    logging_steps=1,\n",
    "    save_steps=6000,\n",
    "    save_total_limit=3,\n",
    "    evaluation_strategy=\"epoch\",\n",
    "    generation_max_length=max_target_length,\n",
    "    generation_num_beams=3,\n",
    ")\n",
    "\n",
    "# model\n",
    "model = T5ForConditionalGeneration.from_pretrained(model_path)\n",
    "model.resize_token_embeddings(len(tokenizer))\n",
    "\n",
    "# DataCollatorForSeq2Seq\n",
    "data_collator = DataCollatorForSeq2Seq(tokenizer, model=model)\n",
    "\n",
    "# trainer\n",
    "trainer = Seq2SeqTrainer(\n",
    "    model,\n",
    "    args,\n",
    "    train_dataset=tokenized_train_dataset,\n",
    "    eval_dataset=tokenized_dev_dataset,\n",
    "    data_collator=data_collator,\n",
    "    tokenizer=tokenizer,\n",
    "    compute_metrics=None,\n",
    ")"
   ]
  },
  {
   "cell_type": "code",
   "execution_count": 7,
   "metadata": {
    "colab": {
     "base_uri": "https://localhost:8080/",
     "height": 190,
     "referenced_widgets": [
      "bc4e55d797334f459f51fef8a0a6ac59",
      "06ed836d569f44c5ba96e4e7296337bf",
      "c99f9aa78b1348389ac017802bf513a9",
      "c07ca8eae44448fb9e25d6458e2151f8",
      "64150cd3ece049bf9aeb83c8b6bd3787",
      "a9cddeebaf4340db82e43fef54bae992",
      "558fda9556754c878d5f56cc34f1ff30",
      "ecce70948fc54f36ad7de3d619028e04",
      "85e73999f99a4bf5abd8c5210f5ec79e",
      "6f8e26f141874812b8f8b5116926d157",
      "19053d9767e34672b341bbbf5b4c68bf",
      "92d0fa89dd744267ac3829adb7ec23f9",
      "fabe145903ce445181b6540ca34ee9bc",
      "a1cf9fbc37704b4f977a63bda7eb65d8",
      "f73f5c6e3dd443f487f7aa300f91b469",
      "10818ff058a14382a381dbe96f9e0f16",
      "163005963cc245ff8421cea7019b02df",
      "8796bab89ac54a1c90488c6037c2aadc",
      "7519fc093c4d464b8fdd8c40bc72c17d",
      "876ec6e16a074d8e8cba3431ef80d00b",
      "fd9005e6fb264b3fa4551f1fc491d320",
      "9ec0d228611c4351888e58c64a372868"
     ]
    },
    "executionInfo": {
     "elapsed": 156681,
     "status": "ok",
     "timestamp": 1712190983769,
     "user": {
      "displayName": "Zxk",
      "userId": "12903730875573779685"
     },
     "user_tz": -480
    },
    "id": "jQglEr2A3rvF",
    "outputId": "af9bc2b1-87f7-44a7-8df0-e92d09f01ad5"
   },
   "outputs": [
    {
     "data": {
      "text/html": [
       "\n",
       "    <div>\n",
       "      \n",
       "      <progress value='4733' max='4733' style='width:300px; height:20px; vertical-align: middle;'></progress>\n",
       "      [4733/4733 19:23, Epoch 1/1]\n",
       "    </div>\n",
       "    <table border=\"1\" class=\"dataframe\">\n",
       "  <thead>\n",
       " <tr style=\"text-align: left;\">\n",
       "      <th>Epoch</th>\n",
       "      <th>Training Loss</th>\n",
       "      <th>Validation Loss</th>\n",
       "    </tr>\n",
       "  </thead>\n",
       "  <tbody>\n",
       "    <tr>\n",
       "      <td>1</td>\n",
       "      <td>4.112000</td>\n",
       "      <td>3.488240</td>\n",
       "    </tr>\n",
       "  </tbody>\n",
       "</table><p>"
      ],
      "text/plain": [
       "<IPython.core.display.HTML object>"
      ]
     },
     "metadata": {},
     "output_type": "display_data"
    }
   ],
   "source": [
    "train_result = trainer.train()\n",
    "trainer.save_model(\"./saved_model\")"
   ]
  },
  {
   "cell_type": "markdown",
   "metadata": {},
   "source": [
    "## Inference"
   ]
  },
  {
   "cell_type": "code",
   "execution_count": 15,
   "metadata": {},
   "outputs": [
    {
     "name": "stderr",
     "output_type": "stream",
     "text": [
      "Special tokens have been added in the vocabulary, make sure the associated word embeddings are fine-tuned or trained.\n"
     ]
    }
   ],
   "source": [
    "# 加载模型\n",
    "\n",
    "test_model = T5ForConditionalGeneration.from_pretrained(\"./saved_model\")\n",
    "tokenizer = T5Tokenizer.from_pretrained(\"./saved_model\")"
   ]
  },
  {
   "cell_type": "code",
   "execution_count": 16,
   "metadata": {
    "colab": {
     "base_uri": "https://localhost:8080/"
    },
    "executionInfo": {
     "elapsed": 3668361,
     "status": "ok",
     "timestamp": 1712204201043,
     "user": {
      "displayName": "Zxk",
      "userId": "12903730875573779685"
     },
     "user_tz": -480
    },
    "id": "uRUo8rvLM6qf",
    "outputId": "ac8679c4-ecea-4a51-a8b4-9047934f0170"
   },
   "outputs": [
    {
     "data": {
      "application/vnd.jupyter.widget-view+json": {
       "model_id": "046ec0fd5bf84fa98b167b4e638c7523",
       "version_major": 2,
       "version_minor": 0
      },
      "text/plain": [
       "  0%|          | 0/11877 [00:00<?, ?it/s]"
      ]
     },
     "metadata": {},
     "output_type": "display_data"
    }
   ],
   "source": [
    "# test in squad nqg dataset\n",
    "\n",
    "evaluate(test_model, test_dataset, tokenized_test_dataset['input_ids'], tokenizer)"
   ]
  },
  {
   "cell_type": "code",
   "execution_count": 17,
   "metadata": {},
   "outputs": [
    {
     "name": "stdout",
     "output_type": "stream",
     "text": [
      "The length of test set is 11877. Start calculating...\n"
     ]
    },
    {
     "data": {
      "application/vnd.jupyter.widget-view+json": {
       "model_id": "4a1d08706cac47a7b635a7785657a3be",
       "version_major": 2,
       "version_minor": 0
      },
      "text/plain": [
       "  0%|          | 0/11877 [00:00<?, ?it/s]"
      ]
     },
     "metadata": {},
     "output_type": "display_data"
    },
    {
     "name": "stdout",
     "output_type": "stream",
     "text": [
      "bleu-1, bleu-2, bleu-4, meteor, rough-l: 32.156, 20.489, 8.095, 33.838, 39.2\n"
     ]
    }
   ],
   "source": [
    "path = './predict/pred.txt'\n",
    "targ_path = './predict/targ.txt'\n",
    "    \n",
    "bleu_1, bleu_2, bleu_4, meteor, rough_l = get_metric(path, targ_path)\n",
    "print(f'bleu-1, bleu-2, bleu-4, meteor, rough-l: {bleu_1}, {bleu_2}, {bleu_4}, {meteor}, {rough_l}')"
   ]
  },
  {
   "cell_type": "code",
   "execution_count": null,
   "metadata": {},
   "outputs": [],
   "source": []
  },
  {
   "cell_type": "code",
   "execution_count": null,
   "metadata": {},
   "outputs": [],
   "source": []
  }
 ],
 "metadata": {
  "accelerator": "GPU",
  "colab": {
   "authorship_tag": "ABX9TyNOuOBsqzcauEs0g7I2cUEE",
   "gpuType": "T4",
   "mount_file_id": "1-HfxCwQlkn-eVfGH9G24T1LaHPrZxly8",
   "provenance": []
  },
  "kernelspec": {
   "display_name": "DL8007",
   "language": "python",
   "name": "dl8007"
  },
  "language_info": {
   "codemirror_mode": {
    "name": "ipython",
    "version": 3
   },
   "file_extension": ".py",
   "mimetype": "text/x-python",
   "name": "python",
   "nbconvert_exporter": "python",
   "pygments_lexer": "ipython3",
   "version": "3.8.13"
  },
  "widgets": {
   "application/vnd.jupyter.widget-state+json": {
    "06ed836d569f44c5ba96e4e7296337bf": {
     "model_module": "@jupyter-widgets/controls",
     "model_module_version": "1.5.0",
     "model_name": "HTMLModel",
     "state": {
      "_dom_classes": [],
      "_model_module": "@jupyter-widgets/controls",
      "_model_module_version": "1.5.0",
      "_model_name": "HTMLModel",
      "_view_count": null,
      "_view_module": "@jupyter-widgets/controls",
      "_view_module_version": "1.5.0",
      "_view_name": "HTMLView",
      "description": "",
      "description_tooltip": null,
      "layout": "IPY_MODEL_a9cddeebaf4340db82e43fef54bae992",
      "placeholder": "​",
      "style": "IPY_MODEL_558fda9556754c878d5f56cc34f1ff30",
      "value": "Map: 100%"
     }
    },
    "09120ebc05be4bd3b097a90646587bac": {
     "model_module": "@jupyter-widgets/controls",
     "model_module_version": "1.5.0",
     "model_name": "DescriptionStyleModel",
     "state": {
      "_model_module": "@jupyter-widgets/controls",
      "_model_module_version": "1.5.0",
      "_model_name": "DescriptionStyleModel",
      "_view_count": null,
      "_view_module": "@jupyter-widgets/base",
      "_view_module_version": "1.2.0",
      "_view_name": "StyleView",
      "description_width": ""
     }
    },
    "10818ff058a14382a381dbe96f9e0f16": {
     "model_module": "@jupyter-widgets/base",
     "model_module_version": "1.2.0",
     "model_name": "LayoutModel",
     "state": {
      "_model_module": "@jupyter-widgets/base",
      "_model_module_version": "1.2.0",
      "_model_name": "LayoutModel",
      "_view_count": null,
      "_view_module": "@jupyter-widgets/base",
      "_view_module_version": "1.2.0",
      "_view_name": "LayoutView",
      "align_content": null,
      "align_items": null,
      "align_self": null,
      "border": null,
      "bottom": null,
      "display": null,
      "flex": null,
      "flex_flow": null,
      "grid_area": null,
      "grid_auto_columns": null,
      "grid_auto_flow": null,
      "grid_auto_rows": null,
      "grid_column": null,
      "grid_gap": null,
      "grid_row": null,
      "grid_template_areas": null,
      "grid_template_columns": null,
      "grid_template_rows": null,
      "height": null,
      "justify_content": null,
      "justify_items": null,
      "left": null,
      "margin": null,
      "max_height": null,
      "max_width": null,
      "min_height": null,
      "min_width": null,
      "object_fit": null,
      "object_position": null,
      "order": null,
      "overflow": null,
      "overflow_x": null,
      "overflow_y": null,
      "padding": null,
      "right": null,
      "top": null,
      "visibility": null,
      "width": null
     }
    },
    "163005963cc245ff8421cea7019b02df": {
     "model_module": "@jupyter-widgets/base",
     "model_module_version": "1.2.0",
     "model_name": "LayoutModel",
     "state": {
      "_model_module": "@jupyter-widgets/base",
      "_model_module_version": "1.2.0",
      "_model_name": "LayoutModel",
      "_view_count": null,
      "_view_module": "@jupyter-widgets/base",
      "_view_module_version": "1.2.0",
      "_view_name": "LayoutView",
      "align_content": null,
      "align_items": null,
      "align_self": null,
      "border": null,
      "bottom": null,
      "display": null,
      "flex": null,
      "flex_flow": null,
      "grid_area": null,
      "grid_auto_columns": null,
      "grid_auto_flow": null,
      "grid_auto_rows": null,
      "grid_column": null,
      "grid_gap": null,
      "grid_row": null,
      "grid_template_areas": null,
      "grid_template_columns": null,
      "grid_template_rows": null,
      "height": null,
      "justify_content": null,
      "justify_items": null,
      "left": null,
      "margin": null,
      "max_height": null,
      "max_width": null,
      "min_height": null,
      "min_width": null,
      "object_fit": null,
      "object_position": null,
      "order": null,
      "overflow": null,
      "overflow_x": null,
      "overflow_y": null,
      "padding": null,
      "right": null,
      "top": null,
      "visibility": null,
      "width": null
     }
    },
    "19053d9767e34672b341bbbf5b4c68bf": {
     "model_module": "@jupyter-widgets/controls",
     "model_module_version": "1.5.0",
     "model_name": "DescriptionStyleModel",
     "state": {
      "_model_module": "@jupyter-widgets/controls",
      "_model_module_version": "1.5.0",
      "_model_name": "DescriptionStyleModel",
      "_view_count": null,
      "_view_module": "@jupyter-widgets/base",
      "_view_module_version": "1.2.0",
      "_view_name": "StyleView",
      "description_width": ""
     }
    },
    "3fc3f8db51b9472885cefeb85913212d": {
     "model_module": "@jupyter-widgets/controls",
     "model_module_version": "1.5.0",
     "model_name": "FloatProgressModel",
     "state": {
      "_dom_classes": [],
      "_model_module": "@jupyter-widgets/controls",
      "_model_module_version": "1.5.0",
      "_model_name": "FloatProgressModel",
      "_view_count": null,
      "_view_module": "@jupyter-widgets/controls",
      "_view_module_version": "1.5.0",
      "_view_name": "ProgressView",
      "bar_style": "success",
      "description": "",
      "description_tooltip": null,
      "layout": "IPY_MODEL_c36828b9f0dc4800a4a64cacd6707180",
      "max": 9000,
      "min": 0,
      "orientation": "horizontal",
      "style": "IPY_MODEL_6c72b46ccf8d46f78270dd7d87011244",
      "value": 9000
     }
    },
    "558fda9556754c878d5f56cc34f1ff30": {
     "model_module": "@jupyter-widgets/controls",
     "model_module_version": "1.5.0",
     "model_name": "DescriptionStyleModel",
     "state": {
      "_model_module": "@jupyter-widgets/controls",
      "_model_module_version": "1.5.0",
      "_model_name": "DescriptionStyleModel",
      "_view_count": null,
      "_view_module": "@jupyter-widgets/base",
      "_view_module_version": "1.2.0",
      "_view_name": "StyleView",
      "description_width": ""
     }
    },
    "5f3577c70c3c43458b36cfcd51b71c74": {
     "model_module": "@jupyter-widgets/base",
     "model_module_version": "1.2.0",
     "model_name": "LayoutModel",
     "state": {
      "_model_module": "@jupyter-widgets/base",
      "_model_module_version": "1.2.0",
      "_model_name": "LayoutModel",
      "_view_count": null,
      "_view_module": "@jupyter-widgets/base",
      "_view_module_version": "1.2.0",
      "_view_name": "LayoutView",
      "align_content": null,
      "align_items": null,
      "align_self": null,
      "border": null,
      "bottom": null,
      "display": null,
      "flex": null,
      "flex_flow": null,
      "grid_area": null,
      "grid_auto_columns": null,
      "grid_auto_flow": null,
      "grid_auto_rows": null,
      "grid_column": null,
      "grid_gap": null,
      "grid_row": null,
      "grid_template_areas": null,
      "grid_template_columns": null,
      "grid_template_rows": null,
      "height": null,
      "justify_content": null,
      "justify_items": null,
      "left": null,
      "margin": null,
      "max_height": null,
      "max_width": null,
      "min_height": null,
      "min_width": null,
      "object_fit": null,
      "object_position": null,
      "order": null,
      "overflow": null,
      "overflow_x": null,
      "overflow_y": null,
      "padding": null,
      "right": null,
      "top": null,
      "visibility": null,
      "width": null
     }
    },
    "64150cd3ece049bf9aeb83c8b6bd3787": {
     "model_module": "@jupyter-widgets/base",
     "model_module_version": "1.2.0",
     "model_name": "LayoutModel",
     "state": {
      "_model_module": "@jupyter-widgets/base",
      "_model_module_version": "1.2.0",
      "_model_name": "LayoutModel",
      "_view_count": null,
      "_view_module": "@jupyter-widgets/base",
      "_view_module_version": "1.2.0",
      "_view_name": "LayoutView",
      "align_content": null,
      "align_items": null,
      "align_self": null,
      "border": null,
      "bottom": null,
      "display": null,
      "flex": null,
      "flex_flow": null,
      "grid_area": null,
      "grid_auto_columns": null,
      "grid_auto_flow": null,
      "grid_auto_rows": null,
      "grid_column": null,
      "grid_gap": null,
      "grid_row": null,
      "grid_template_areas": null,
      "grid_template_columns": null,
      "grid_template_rows": null,
      "height": null,
      "justify_content": null,
      "justify_items": null,
      "left": null,
      "margin": null,
      "max_height": null,
      "max_width": null,
      "min_height": null,
      "min_width": null,
      "object_fit": null,
      "object_position": null,
      "order": null,
      "overflow": null,
      "overflow_x": null,
      "overflow_y": null,
      "padding": null,
      "right": null,
      "top": null,
      "visibility": null,
      "width": null
     }
    },
    "6c72b46ccf8d46f78270dd7d87011244": {
     "model_module": "@jupyter-widgets/controls",
     "model_module_version": "1.5.0",
     "model_name": "ProgressStyleModel",
     "state": {
      "_model_module": "@jupyter-widgets/controls",
      "_model_module_version": "1.5.0",
      "_model_name": "ProgressStyleModel",
      "_view_count": null,
      "_view_module": "@jupyter-widgets/base",
      "_view_module_version": "1.2.0",
      "_view_name": "StyleView",
      "bar_color": null,
      "description_width": ""
     }
    },
    "6f8e26f141874812b8f8b5116926d157": {
     "model_module": "@jupyter-widgets/base",
     "model_module_version": "1.2.0",
     "model_name": "LayoutModel",
     "state": {
      "_model_module": "@jupyter-widgets/base",
      "_model_module_version": "1.2.0",
      "_model_name": "LayoutModel",
      "_view_count": null,
      "_view_module": "@jupyter-widgets/base",
      "_view_module_version": "1.2.0",
      "_view_name": "LayoutView",
      "align_content": null,
      "align_items": null,
      "align_self": null,
      "border": null,
      "bottom": null,
      "display": null,
      "flex": null,
      "flex_flow": null,
      "grid_area": null,
      "grid_auto_columns": null,
      "grid_auto_flow": null,
      "grid_auto_rows": null,
      "grid_column": null,
      "grid_gap": null,
      "grid_row": null,
      "grid_template_areas": null,
      "grid_template_columns": null,
      "grid_template_rows": null,
      "height": null,
      "justify_content": null,
      "justify_items": null,
      "left": null,
      "margin": null,
      "max_height": null,
      "max_width": null,
      "min_height": null,
      "min_width": null,
      "object_fit": null,
      "object_position": null,
      "order": null,
      "overflow": null,
      "overflow_x": null,
      "overflow_y": null,
      "padding": null,
      "right": null,
      "top": null,
      "visibility": null,
      "width": null
     }
    },
    "7519fc093c4d464b8fdd8c40bc72c17d": {
     "model_module": "@jupyter-widgets/base",
     "model_module_version": "1.2.0",
     "model_name": "LayoutModel",
     "state": {
      "_model_module": "@jupyter-widgets/base",
      "_model_module_version": "1.2.0",
      "_model_name": "LayoutModel",
      "_view_count": null,
      "_view_module": "@jupyter-widgets/base",
      "_view_module_version": "1.2.0",
      "_view_name": "LayoutView",
      "align_content": null,
      "align_items": null,
      "align_self": null,
      "border": null,
      "bottom": null,
      "display": null,
      "flex": null,
      "flex_flow": null,
      "grid_area": null,
      "grid_auto_columns": null,
      "grid_auto_flow": null,
      "grid_auto_rows": null,
      "grid_column": null,
      "grid_gap": null,
      "grid_row": null,
      "grid_template_areas": null,
      "grid_template_columns": null,
      "grid_template_rows": null,
      "height": null,
      "justify_content": null,
      "justify_items": null,
      "left": null,
      "margin": null,
      "max_height": null,
      "max_width": null,
      "min_height": null,
      "min_width": null,
      "object_fit": null,
      "object_position": null,
      "order": null,
      "overflow": null,
      "overflow_x": null,
      "overflow_y": null,
      "padding": null,
      "right": null,
      "top": null,
      "visibility": null,
      "width": null
     }
    },
    "85e73999f99a4bf5abd8c5210f5ec79e": {
     "model_module": "@jupyter-widgets/controls",
     "model_module_version": "1.5.0",
     "model_name": "ProgressStyleModel",
     "state": {
      "_model_module": "@jupyter-widgets/controls",
      "_model_module_version": "1.5.0",
      "_model_name": "ProgressStyleModel",
      "_view_count": null,
      "_view_module": "@jupyter-widgets/base",
      "_view_module_version": "1.2.0",
      "_view_name": "StyleView",
      "bar_color": null,
      "description_width": ""
     }
    },
    "876ec6e16a074d8e8cba3431ef80d00b": {
     "model_module": "@jupyter-widgets/controls",
     "model_module_version": "1.5.0",
     "model_name": "ProgressStyleModel",
     "state": {
      "_model_module": "@jupyter-widgets/controls",
      "_model_module_version": "1.5.0",
      "_model_name": "ProgressStyleModel",
      "_view_count": null,
      "_view_module": "@jupyter-widgets/base",
      "_view_module_version": "1.2.0",
      "_view_name": "StyleView",
      "bar_color": null,
      "description_width": ""
     }
    },
    "8796bab89ac54a1c90488c6037c2aadc": {
     "model_module": "@jupyter-widgets/controls",
     "model_module_version": "1.5.0",
     "model_name": "DescriptionStyleModel",
     "state": {
      "_model_module": "@jupyter-widgets/controls",
      "_model_module_version": "1.5.0",
      "_model_name": "DescriptionStyleModel",
      "_view_count": null,
      "_view_module": "@jupyter-widgets/base",
      "_view_module_version": "1.2.0",
      "_view_name": "StyleView",
      "description_width": ""
     }
    },
    "8c4a2a36884b485d8b7842b4e5bc7101": {
     "model_module": "@jupyter-widgets/controls",
     "model_module_version": "1.5.0",
     "model_name": "HBoxModel",
     "state": {
      "_dom_classes": [],
      "_model_module": "@jupyter-widgets/controls",
      "_model_module_version": "1.5.0",
      "_model_name": "HBoxModel",
      "_view_count": null,
      "_view_module": "@jupyter-widgets/controls",
      "_view_module_version": "1.5.0",
      "_view_name": "HBoxView",
      "box_style": "",
      "children": [
       "IPY_MODEL_acf7520e91ea4e6b84dcd974017bf302",
       "IPY_MODEL_3fc3f8db51b9472885cefeb85913212d",
       "IPY_MODEL_9c6fee17209a4f84bf4e4e8efaa70158"
      ],
      "layout": "IPY_MODEL_5f3577c70c3c43458b36cfcd51b71c74"
     }
    },
    "92d0fa89dd744267ac3829adb7ec23f9": {
     "model_module": "@jupyter-widgets/controls",
     "model_module_version": "1.5.0",
     "model_name": "HBoxModel",
     "state": {
      "_dom_classes": [],
      "_model_module": "@jupyter-widgets/controls",
      "_model_module_version": "1.5.0",
      "_model_name": "HBoxModel",
      "_view_count": null,
      "_view_module": "@jupyter-widgets/controls",
      "_view_module_version": "1.5.0",
      "_view_name": "HBoxView",
      "box_style": "",
      "children": [
       "IPY_MODEL_fabe145903ce445181b6540ca34ee9bc",
       "IPY_MODEL_a1cf9fbc37704b4f977a63bda7eb65d8",
       "IPY_MODEL_f73f5c6e3dd443f487f7aa300f91b469"
      ],
      "layout": "IPY_MODEL_10818ff058a14382a381dbe96f9e0f16"
     }
    },
    "9c6fee17209a4f84bf4e4e8efaa70158": {
     "model_module": "@jupyter-widgets/controls",
     "model_module_version": "1.5.0",
     "model_name": "HTMLModel",
     "state": {
      "_dom_classes": [],
      "_model_module": "@jupyter-widgets/controls",
      "_model_module_version": "1.5.0",
      "_model_name": "HTMLModel",
      "_view_count": null,
      "_view_module": "@jupyter-widgets/controls",
      "_view_module_version": "1.5.0",
      "_view_name": "HTMLView",
      "description": "",
      "description_tooltip": null,
      "layout": "IPY_MODEL_b344e6794946441ab9ea70f7aa6cdc05",
      "placeholder": "​",
      "style": "IPY_MODEL_09120ebc05be4bd3b097a90646587bac",
      "value": " 9000/9000 [00:20&lt;00:00, 647.38 examples/s]"
     }
    },
    "9ec0d228611c4351888e58c64a372868": {
     "model_module": "@jupyter-widgets/controls",
     "model_module_version": "1.5.0",
     "model_name": "DescriptionStyleModel",
     "state": {
      "_model_module": "@jupyter-widgets/controls",
      "_model_module_version": "1.5.0",
      "_model_name": "DescriptionStyleModel",
      "_view_count": null,
      "_view_module": "@jupyter-widgets/base",
      "_view_module_version": "1.2.0",
      "_view_name": "StyleView",
      "description_width": ""
     }
    },
    "a1cf9fbc37704b4f977a63bda7eb65d8": {
     "model_module": "@jupyter-widgets/controls",
     "model_module_version": "1.5.0",
     "model_name": "FloatProgressModel",
     "state": {
      "_dom_classes": [],
      "_model_module": "@jupyter-widgets/controls",
      "_model_module_version": "1.5.0",
      "_model_name": "FloatProgressModel",
      "_view_count": null,
      "_view_module": "@jupyter-widgets/controls",
      "_view_module_version": "1.5.0",
      "_view_name": "ProgressView",
      "bar_style": "success",
      "description": "",
      "description_tooltip": null,
      "layout": "IPY_MODEL_7519fc093c4d464b8fdd8c40bc72c17d",
      "max": 11877,
      "min": 0,
      "orientation": "horizontal",
      "style": "IPY_MODEL_876ec6e16a074d8e8cba3431ef80d00b",
      "value": 11877
     }
    },
    "a215a7b6c087453e886e1f92e38ef0fb": {
     "model_module": "@jupyter-widgets/base",
     "model_module_version": "1.2.0",
     "model_name": "LayoutModel",
     "state": {
      "_model_module": "@jupyter-widgets/base",
      "_model_module_version": "1.2.0",
      "_model_name": "LayoutModel",
      "_view_count": null,
      "_view_module": "@jupyter-widgets/base",
      "_view_module_version": "1.2.0",
      "_view_name": "LayoutView",
      "align_content": null,
      "align_items": null,
      "align_self": null,
      "border": null,
      "bottom": null,
      "display": null,
      "flex": null,
      "flex_flow": null,
      "grid_area": null,
      "grid_auto_columns": null,
      "grid_auto_flow": null,
      "grid_auto_rows": null,
      "grid_column": null,
      "grid_gap": null,
      "grid_row": null,
      "grid_template_areas": null,
      "grid_template_columns": null,
      "grid_template_rows": null,
      "height": null,
      "justify_content": null,
      "justify_items": null,
      "left": null,
      "margin": null,
      "max_height": null,
      "max_width": null,
      "min_height": null,
      "min_width": null,
      "object_fit": null,
      "object_position": null,
      "order": null,
      "overflow": null,
      "overflow_x": null,
      "overflow_y": null,
      "padding": null,
      "right": null,
      "top": null,
      "visibility": null,
      "width": null
     }
    },
    "a9cddeebaf4340db82e43fef54bae992": {
     "model_module": "@jupyter-widgets/base",
     "model_module_version": "1.2.0",
     "model_name": "LayoutModel",
     "state": {
      "_model_module": "@jupyter-widgets/base",
      "_model_module_version": "1.2.0",
      "_model_name": "LayoutModel",
      "_view_count": null,
      "_view_module": "@jupyter-widgets/base",
      "_view_module_version": "1.2.0",
      "_view_name": "LayoutView",
      "align_content": null,
      "align_items": null,
      "align_self": null,
      "border": null,
      "bottom": null,
      "display": null,
      "flex": null,
      "flex_flow": null,
      "grid_area": null,
      "grid_auto_columns": null,
      "grid_auto_flow": null,
      "grid_auto_rows": null,
      "grid_column": null,
      "grid_gap": null,
      "grid_row": null,
      "grid_template_areas": null,
      "grid_template_columns": null,
      "grid_template_rows": null,
      "height": null,
      "justify_content": null,
      "justify_items": null,
      "left": null,
      "margin": null,
      "max_height": null,
      "max_width": null,
      "min_height": null,
      "min_width": null,
      "object_fit": null,
      "object_position": null,
      "order": null,
      "overflow": null,
      "overflow_x": null,
      "overflow_y": null,
      "padding": null,
      "right": null,
      "top": null,
      "visibility": null,
      "width": null
     }
    },
    "acf7520e91ea4e6b84dcd974017bf302": {
     "model_module": "@jupyter-widgets/controls",
     "model_module_version": "1.5.0",
     "model_name": "HTMLModel",
     "state": {
      "_dom_classes": [],
      "_model_module": "@jupyter-widgets/controls",
      "_model_module_version": "1.5.0",
      "_model_name": "HTMLModel",
      "_view_count": null,
      "_view_module": "@jupyter-widgets/controls",
      "_view_module_version": "1.5.0",
      "_view_name": "HTMLView",
      "description": "",
      "description_tooltip": null,
      "layout": "IPY_MODEL_a215a7b6c087453e886e1f92e38ef0fb",
      "placeholder": "​",
      "style": "IPY_MODEL_b54ad30cc30242a08d50f1e4ed7127a2",
      "value": "Map: 100%"
     }
    },
    "b344e6794946441ab9ea70f7aa6cdc05": {
     "model_module": "@jupyter-widgets/base",
     "model_module_version": "1.2.0",
     "model_name": "LayoutModel",
     "state": {
      "_model_module": "@jupyter-widgets/base",
      "_model_module_version": "1.2.0",
      "_model_name": "LayoutModel",
      "_view_count": null,
      "_view_module": "@jupyter-widgets/base",
      "_view_module_version": "1.2.0",
      "_view_name": "LayoutView",
      "align_content": null,
      "align_items": null,
      "align_self": null,
      "border": null,
      "bottom": null,
      "display": null,
      "flex": null,
      "flex_flow": null,
      "grid_area": null,
      "grid_auto_columns": null,
      "grid_auto_flow": null,
      "grid_auto_rows": null,
      "grid_column": null,
      "grid_gap": null,
      "grid_row": null,
      "grid_template_areas": null,
      "grid_template_columns": null,
      "grid_template_rows": null,
      "height": null,
      "justify_content": null,
      "justify_items": null,
      "left": null,
      "margin": null,
      "max_height": null,
      "max_width": null,
      "min_height": null,
      "min_width": null,
      "object_fit": null,
      "object_position": null,
      "order": null,
      "overflow": null,
      "overflow_x": null,
      "overflow_y": null,
      "padding": null,
      "right": null,
      "top": null,
      "visibility": null,
      "width": null
     }
    },
    "b54ad30cc30242a08d50f1e4ed7127a2": {
     "model_module": "@jupyter-widgets/controls",
     "model_module_version": "1.5.0",
     "model_name": "DescriptionStyleModel",
     "state": {
      "_model_module": "@jupyter-widgets/controls",
      "_model_module_version": "1.5.0",
      "_model_name": "DescriptionStyleModel",
      "_view_count": null,
      "_view_module": "@jupyter-widgets/base",
      "_view_module_version": "1.2.0",
      "_view_name": "StyleView",
      "description_width": ""
     }
    },
    "bc4e55d797334f459f51fef8a0a6ac59": {
     "model_module": "@jupyter-widgets/controls",
     "model_module_version": "1.5.0",
     "model_name": "HBoxModel",
     "state": {
      "_dom_classes": [],
      "_model_module": "@jupyter-widgets/controls",
      "_model_module_version": "1.5.0",
      "_model_name": "HBoxModel",
      "_view_count": null,
      "_view_module": "@jupyter-widgets/controls",
      "_view_module_version": "1.5.0",
      "_view_name": "HBoxView",
      "box_style": "",
      "children": [
       "IPY_MODEL_06ed836d569f44c5ba96e4e7296337bf",
       "IPY_MODEL_c99f9aa78b1348389ac017802bf513a9",
       "IPY_MODEL_c07ca8eae44448fb9e25d6458e2151f8"
      ],
      "layout": "IPY_MODEL_64150cd3ece049bf9aeb83c8b6bd3787"
     }
    },
    "c07ca8eae44448fb9e25d6458e2151f8": {
     "model_module": "@jupyter-widgets/controls",
     "model_module_version": "1.5.0",
     "model_name": "HTMLModel",
     "state": {
      "_dom_classes": [],
      "_model_module": "@jupyter-widgets/controls",
      "_model_module_version": "1.5.0",
      "_model_name": "HTMLModel",
      "_view_count": null,
      "_view_module": "@jupyter-widgets/controls",
      "_view_module_version": "1.5.0",
      "_view_name": "HTMLView",
      "description": "",
      "description_tooltip": null,
      "layout": "IPY_MODEL_6f8e26f141874812b8f8b5116926d157",
      "placeholder": "​",
      "style": "IPY_MODEL_19053d9767e34672b341bbbf5b4c68bf",
      "value": " 75722/75722 [01:52&lt;00:00, 836.58 examples/s]"
     }
    },
    "c36828b9f0dc4800a4a64cacd6707180": {
     "model_module": "@jupyter-widgets/base",
     "model_module_version": "1.2.0",
     "model_name": "LayoutModel",
     "state": {
      "_model_module": "@jupyter-widgets/base",
      "_model_module_version": "1.2.0",
      "_model_name": "LayoutModel",
      "_view_count": null,
      "_view_module": "@jupyter-widgets/base",
      "_view_module_version": "1.2.0",
      "_view_name": "LayoutView",
      "align_content": null,
      "align_items": null,
      "align_self": null,
      "border": null,
      "bottom": null,
      "display": null,
      "flex": null,
      "flex_flow": null,
      "grid_area": null,
      "grid_auto_columns": null,
      "grid_auto_flow": null,
      "grid_auto_rows": null,
      "grid_column": null,
      "grid_gap": null,
      "grid_row": null,
      "grid_template_areas": null,
      "grid_template_columns": null,
      "grid_template_rows": null,
      "height": null,
      "justify_content": null,
      "justify_items": null,
      "left": null,
      "margin": null,
      "max_height": null,
      "max_width": null,
      "min_height": null,
      "min_width": null,
      "object_fit": null,
      "object_position": null,
      "order": null,
      "overflow": null,
      "overflow_x": null,
      "overflow_y": null,
      "padding": null,
      "right": null,
      "top": null,
      "visibility": null,
      "width": null
     }
    },
    "c99f9aa78b1348389ac017802bf513a9": {
     "model_module": "@jupyter-widgets/controls",
     "model_module_version": "1.5.0",
     "model_name": "FloatProgressModel",
     "state": {
      "_dom_classes": [],
      "_model_module": "@jupyter-widgets/controls",
      "_model_module_version": "1.5.0",
      "_model_name": "FloatProgressModel",
      "_view_count": null,
      "_view_module": "@jupyter-widgets/controls",
      "_view_module_version": "1.5.0",
      "_view_name": "ProgressView",
      "bar_style": "success",
      "description": "",
      "description_tooltip": null,
      "layout": "IPY_MODEL_ecce70948fc54f36ad7de3d619028e04",
      "max": 75722,
      "min": 0,
      "orientation": "horizontal",
      "style": "IPY_MODEL_85e73999f99a4bf5abd8c5210f5ec79e",
      "value": 75722
     }
    },
    "ecce70948fc54f36ad7de3d619028e04": {
     "model_module": "@jupyter-widgets/base",
     "model_module_version": "1.2.0",
     "model_name": "LayoutModel",
     "state": {
      "_model_module": "@jupyter-widgets/base",
      "_model_module_version": "1.2.0",
      "_model_name": "LayoutModel",
      "_view_count": null,
      "_view_module": "@jupyter-widgets/base",
      "_view_module_version": "1.2.0",
      "_view_name": "LayoutView",
      "align_content": null,
      "align_items": null,
      "align_self": null,
      "border": null,
      "bottom": null,
      "display": null,
      "flex": null,
      "flex_flow": null,
      "grid_area": null,
      "grid_auto_columns": null,
      "grid_auto_flow": null,
      "grid_auto_rows": null,
      "grid_column": null,
      "grid_gap": null,
      "grid_row": null,
      "grid_template_areas": null,
      "grid_template_columns": null,
      "grid_template_rows": null,
      "height": null,
      "justify_content": null,
      "justify_items": null,
      "left": null,
      "margin": null,
      "max_height": null,
      "max_width": null,
      "min_height": null,
      "min_width": null,
      "object_fit": null,
      "object_position": null,
      "order": null,
      "overflow": null,
      "overflow_x": null,
      "overflow_y": null,
      "padding": null,
      "right": null,
      "top": null,
      "visibility": null,
      "width": null
     }
    },
    "f73f5c6e3dd443f487f7aa300f91b469": {
     "model_module": "@jupyter-widgets/controls",
     "model_module_version": "1.5.0",
     "model_name": "HTMLModel",
     "state": {
      "_dom_classes": [],
      "_model_module": "@jupyter-widgets/controls",
      "_model_module_version": "1.5.0",
      "_model_name": "HTMLModel",
      "_view_count": null,
      "_view_module": "@jupyter-widgets/controls",
      "_view_module_version": "1.5.0",
      "_view_name": "HTMLView",
      "description": "",
      "description_tooltip": null,
      "layout": "IPY_MODEL_fd9005e6fb264b3fa4551f1fc491d320",
      "placeholder": "​",
      "style": "IPY_MODEL_9ec0d228611c4351888e58c64a372868",
      "value": " 11877/11877 [00:14&lt;00:00, 794.84 examples/s]"
     }
    },
    "fabe145903ce445181b6540ca34ee9bc": {
     "model_module": "@jupyter-widgets/controls",
     "model_module_version": "1.5.0",
     "model_name": "HTMLModel",
     "state": {
      "_dom_classes": [],
      "_model_module": "@jupyter-widgets/controls",
      "_model_module_version": "1.5.0",
      "_model_name": "HTMLModel",
      "_view_count": null,
      "_view_module": "@jupyter-widgets/controls",
      "_view_module_version": "1.5.0",
      "_view_name": "HTMLView",
      "description": "",
      "description_tooltip": null,
      "layout": "IPY_MODEL_163005963cc245ff8421cea7019b02df",
      "placeholder": "​",
      "style": "IPY_MODEL_8796bab89ac54a1c90488c6037c2aadc",
      "value": "Map: 100%"
     }
    },
    "fd9005e6fb264b3fa4551f1fc491d320": {
     "model_module": "@jupyter-widgets/base",
     "model_module_version": "1.2.0",
     "model_name": "LayoutModel",
     "state": {
      "_model_module": "@jupyter-widgets/base",
      "_model_module_version": "1.2.0",
      "_model_name": "LayoutModel",
      "_view_count": null,
      "_view_module": "@jupyter-widgets/base",
      "_view_module_version": "1.2.0",
      "_view_name": "LayoutView",
      "align_content": null,
      "align_items": null,
      "align_self": null,
      "border": null,
      "bottom": null,
      "display": null,
      "flex": null,
      "flex_flow": null,
      "grid_area": null,
      "grid_auto_columns": null,
      "grid_auto_flow": null,
      "grid_auto_rows": null,
      "grid_column": null,
      "grid_gap": null,
      "grid_row": null,
      "grid_template_areas": null,
      "grid_template_columns": null,
      "grid_template_rows": null,
      "height": null,
      "justify_content": null,
      "justify_items": null,
      "left": null,
      "margin": null,
      "max_height": null,
      "max_width": null,
      "min_height": null,
      "min_width": null,
      "object_fit": null,
      "object_position": null,
      "order": null,
      "overflow": null,
      "overflow_x": null,
      "overflow_y": null,
      "padding": null,
      "right": null,
      "top": null,
      "visibility": null,
      "width": null
     }
    }
   }
  }
 },
 "nbformat": 4,
 "nbformat_minor": 4
}
